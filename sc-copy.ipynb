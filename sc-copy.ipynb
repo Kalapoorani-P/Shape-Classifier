{
 "cells": [
  {
   "cell_type": "code",
   "execution_count": 14,
   "metadata": {},
   "outputs": [],
   "source": [
    "import torch \n",
    "import torchvision\n",
    "from torchvision import transforms\n",
    "from torch import nn,optim\n",
    "from torch.utils.data import DataLoader,Dataset,Sampler\n",
    "import glob \n",
    "import os \n",
    "import numpy as np\n",
    "import cv2\n",
    "import matplotlib.pyplot as plt\n",
    "from torch.utils.tensorboard import SummaryWriter\n",
    "import torch.nn.functional as F"
   ]
  },
  {
   "cell_type": "code",
   "execution_count": 15,
   "metadata": {},
   "outputs": [],
   "source": [
    "torch.manual_seed(1)\n",
    "writer = SummaryWriter('classifier-1/runs')"
   ]
  },
  {
   "cell_type": "code",
   "execution_count": 16,
   "metadata": {},
   "outputs": [],
   "source": [
    "from email.mime import image\n",
    "\n",
    "\n",
    "torch.manual_seed(1)\n",
    "class ShapeDataset(Dataset):\n",
    "    def __init__(self,path ,dataset_type):\n",
    "        \n",
    "        \"\"\"\n",
    "        self.path contain the path of dataset \n",
    "        mode = 1 or 0 ( if mode is zero consider as train set else consider as val set )\n",
    "\n",
    "        \"\"\"\n",
    "        self.path =  path\n",
    "        self.Image_path_list = []\n",
    "        self.classes = []\n",
    "\n",
    "        self.dataset_type = dataset_type\n",
    "        self.classlabel = {}\n",
    "        label_no = 0\n",
    "        for label in os.listdir(path):\n",
    "            if os.path.isdir(path+label):\n",
    "                self.classlabel[label] = label_no\n",
    "                label_no+=1 \n",
    "        for data_path in glob.glob(path+\"**/*.png\"):\n",
    "            self.Image_path_list.append(data_path)\n",
    "        \n",
    "        np.random.shuffle(self.Image_path_list)\n",
    "\n",
    "        if self.dataset_type:\n",
    "            self.train = self.Image_path_list[:int(len(self.Image_path_list)*0.8)]\n",
    "            \n",
    "        else:\n",
    "            self.test = self.Image_path_list[int(len(self.Image_path_list)*0.8):]\n",
    "\n",
    "        \n",
    "\n",
    "\n",
    "    def getImageAndLabel(self,data,index):\n",
    "        img_path = data[index]\n",
    "        label = torch.tensor(self.classlabel[img_path.split('/')[-2]])\n",
    "        image = cv2.imread(img_path,0)\n",
    "        # image = cv2.resize(image,interpolation=cv2.INTER_AREA)\n",
    "        image = torch.from_numpy(image)/255.0\n",
    "        # image = torch.cat(image,dim=0)\n",
    "        # print(image.shape)\n",
    "        return image,label\n",
    "\n",
    "    def __getitem__(self,index):\n",
    "        # print(index)\n",
    "        if self.dataset_type :\n",
    "            return self.getImageAndLabel(self.train,index)\n",
    "\n",
    "        else:\n",
    "            return self.getImageAndLabel(self.test,index)\n",
    "            \n",
    "\n",
    "    def __len__(self):\n",
    "        if self.dataset_type:\n",
    "            return len(self.train)\n",
    "\n",
    "        else:\n",
    "            return len(self.test)"
   ]
  },
  {
   "cell_type": "code",
   "execution_count": 17,
   "metadata": {},
   "outputs": [],
   "source": [
    "\n",
    "class LinBNRelu(nn.Module):\n",
    "    def __init__(self,input_size,output_size):\n",
    "        super().__init__()\n",
    "        self.ln = nn.Linear(input_size,output_size)\n",
    "        self.bn = nn.BatchNorm1d(num_features=output_size)\n",
    "        self.act = nn.ReLU()\n",
    "    def forward(self,x):\n",
    "        x = self.ln(x)\n",
    "        x = self.bn(x)\n",
    "        x = self.act(x)\n",
    "        return x"
   ]
  },
  {
   "cell_type": "code",
   "execution_count": 18,
   "metadata": {},
   "outputs": [],
   "source": [
    "\n",
    "\n",
    "class ShapeClassifierNetwork(nn.Module):\n",
    "   def __init__(self,input_size,output_size):\n",
    "      super().__init__()\n",
    "      self.input_layer = LinBNRelu(input_size,128)\n",
    "      self.hidden1 =LinBNRelu(128,128)\n",
    "      self.hidden2 =LinBNRelu(128,128)\n",
    "      self.hidden3 =LinBNRelu(128,64)\n",
    "      self.output_layer = nn.Linear(64,output_size)\n",
    "\n",
    "   def forward(self,x):\n",
    "      x = self.input_layer(x)\n",
    "      x = self.hidden1(x)\n",
    "      x = self.hidden2(x)\n",
    "      x = self.hidden3(x)\n",
    "      x = self.output_layer(x)\n",
    "\n",
    "      return x \n"
   ]
  },
  {
   "cell_type": "code",
   "execution_count": 19,
   "metadata": {},
   "outputs": [],
   "source": [
    "\n",
    "\n",
    "# class ShapeClassifierNetwork(nn.Module):\n",
    "#    def __init__(self,input_size,output_size):\n",
    "#       super().__init__()\n",
    "#       self.ln1 = nn.Linear(input_size, 128)\n",
    "#       self.bn1 = nn.BatchNorm1d(num_features=128)\n",
    "#       self.act1 = nn.ReLU()\n",
    "\n",
    "\n",
    "#       self.ln2 = nn.Linear(128, 128)\n",
    "#       self.bn2 = nn.BatchNorm1d(num_features=128)\n",
    "#       self.act2 = nn.ReLU()\n",
    "\n",
    "\n",
    "#       self.ln3 = nn.Linear(128, 128)\n",
    "#       self.bn3 = nn.BatchNorm1d(num_features=128)\n",
    "#       self.act3 = nn.ReLU()\n",
    "\n",
    "\n",
    "#       self.ln4 = nn.Linear(128, 64)\n",
    "#       self.bn4 = nn.BatchNorm1d(num_features=64)\n",
    "#       self.act4 = nn.ReLU()\n",
    "\n",
    "#       self.output = nn.Linear(64, output_size)\n",
    "\n",
    "\n",
    "#    def forward(self,x):\n",
    "\n",
    "#       x = self.ln1(x)\n",
    "#       x = self.bn1(x)\n",
    "#       x = self.act1(x)\n",
    "\n",
    "#       x = self.ln2(x)\n",
    "#       x = self.bn2(x)\n",
    "#       x = self.act2(x)\n",
    "\n",
    "#       x = self.ln3(x)\n",
    "#       x = self.bn3(x)\n",
    "#       x = self.act3(x)\n",
    "\n",
    "\n",
    "#       x = self.ln4(x)\n",
    "#       x = self.bn4(x)\n",
    "#       x = self.act4(x)\n",
    "\n",
    "#       x = self.output(x)\n",
    "\n",
    "#       return x"
   ]
  },
  {
   "cell_type": "code",
   "execution_count": 20,
   "metadata": {},
   "outputs": [],
   "source": [
    "def one_hot_encoded(y):\n",
    "    num_classes=4\n",
    "    y_onehot = torch.zeros(y.size(0),num_classes)\n",
    "    y_onehot.scatter_(1, y.view(-1, 1).long(), 1).float()\n",
    "    return y_onehot"
   ]
  },
  {
   "cell_type": "code",
   "execution_count": 21,
   "metadata": {},
   "outputs": [],
   "source": [
    "\n",
    "def cross_entropy(input, target):\n",
    "    logsoftmax = nn.LogSoftmax()\n",
    "    return torch.mean(torch.sum(-target * logsoftmax(input), dim=1))\n",
    "\n"
   ]
  },
  {
   "cell_type": "code",
   "execution_count": 22,
   "metadata": {},
   "outputs": [],
   "source": [
    "\n",
    "path=\"ImageData-2/shapes/\""
   ]
  },
  {
   "cell_type": "code",
   "execution_count": 23,
   "metadata": {},
   "outputs": [
    {
     "data": {
      "text/plain": [
       "torch.Size([200, 200])"
      ]
     },
     "execution_count": 23,
     "metadata": {},
     "output_type": "execute_result"
    }
   ],
   "source": [
    "\n",
    "train_dataset = ShapeDataset(path,1)\n",
    "test_dataset = ShapeDataset(path,0)\n",
    "# train_dataset[0]\n",
    "train_dataset[0][0].shape\n",
    "# len(train_dataset),len(test_dataset)\n"
   ]
  },
  {
   "cell_type": "code",
   "execution_count": 24,
   "metadata": {},
   "outputs": [],
   "source": [
    "\n",
    "train_loader = DataLoader(dataset=train_dataset,batch_size=64,shuffle=True,num_workers=4)\n",
    "test_loader = DataLoader(dataset=test_dataset,batch_size=64,shuffle=True,num_workers=4)"
   ]
  },
  {
   "cell_type": "code",
   "execution_count": 25,
   "metadata": {},
   "outputs": [
    {
     "name": "stdout",
     "output_type": "stream",
     "text": [
      "W:  torch.Size([128, 40000])\n"
     ]
    },
    {
     "data": {
      "text/plain": [
       "ShapeClassifierNetwork(\n",
       "  (input_layer): LinBNRelu(\n",
       "    (ln): Linear(in_features=40000, out_features=128, bias=True)\n",
       "    (bn): BatchNorm1d(128, eps=1e-05, momentum=0.1, affine=True, track_running_stats=True)\n",
       "    (act): ReLU()\n",
       "  )\n",
       "  (hidden1): LinBNRelu(\n",
       "    (ln): Linear(in_features=128, out_features=128, bias=True)\n",
       "    (bn): BatchNorm1d(128, eps=1e-05, momentum=0.1, affine=True, track_running_stats=True)\n",
       "    (act): ReLU()\n",
       "  )\n",
       "  (hidden2): LinBNRelu(\n",
       "    (ln): Linear(in_features=128, out_features=128, bias=True)\n",
       "    (bn): BatchNorm1d(128, eps=1e-05, momentum=0.1, affine=True, track_running_stats=True)\n",
       "    (act): ReLU()\n",
       "  )\n",
       "  (hidden3): LinBNRelu(\n",
       "    (ln): Linear(in_features=128, out_features=64, bias=True)\n",
       "    (bn): BatchNorm1d(64, eps=1e-05, momentum=0.1, affine=True, track_running_stats=True)\n",
       "    (act): ReLU()\n",
       "  )\n",
       "  (output_layer): Linear(in_features=64, out_features=4, bias=True)\n",
       ")"
      ]
     },
     "execution_count": 25,
     "metadata": {},
     "output_type": "execute_result"
    }
   ],
   "source": [
    "\n",
    "input_dim = 200 * 200\n",
    "output_dim = 4\n",
    "\n",
    "model = ShapeClassifierNetwork(input_dim,output_dim)\n",
    "loss_func = nn.CrossEntropyLoss()\n",
    "soft_max = torch.nn.Softmax()\n",
    "optimizer = optim.SGD(model.parameters(),lr = 0.03)\n",
    "print('W: ',list(model.parameters())[0].size())\n",
    "# model.state_dict()['hidden.0.weight']\n",
    "model"
   ]
  },
  {
   "cell_type": "code",
   "execution_count": 26,
   "metadata": {},
   "outputs": [],
   "source": [
    "# Tensorboard - Image and Graph Draw \n",
    "images, labels = next(iter(train_loader))\n",
    "# print(images.shape,images.dtype)\n",
    "img_grid = torchvision.utils.make_grid(images.unsqueeze(1))\n",
    "writer.add_image('shape_images', img_grid)\n",
    "writer.add_graph(model,images.view(-1,input_dim))\n"
   ]
  },
  {
   "cell_type": "code",
   "execution_count": 27,
   "metadata": {},
   "outputs": [],
   "source": [
    "# Training\n",
    "\n",
    "def train(model,train_loader,test_loader,optimizer,epochs=100):\n",
    "    loss_list = []\n",
    "    accuracyList = []\n",
    "    test_loss_list = []\n",
    "    for epoch in range(epochs):\n",
    "        total_train_loss,toal_test_loss,correct,train_correct=0,0,0,0\n",
    "        for x_train,y_train in train_loader:\n",
    "            # print(x_train)\n",
    "            model.train()\n",
    "            z = model(x_train.view(-1,input_dim))\n",
    "            optimizer.zero_grad()\n",
    "            y_train = one_hot_encoded(y_train)\n",
    "            loss = cross_entropy(z,y_train)\n",
    "            \n",
    "            loss.backward()\n",
    "            optimizer.step()\n",
    "            total_train_loss += loss.item()\n",
    "\n",
    "\n",
    "\n",
    "        for x_test,y_test in test_loader:\n",
    "            # print(x_test)\n",
    "            model.eval()\n",
    "            z_test = model(x_test.view(-1,input_dim))\n",
    "           \n",
    "            y_enc = one_hot_encoded(y_test)\n",
    "            test_loss = cross_entropy(z_test,y_enc)\n",
    "            \n",
    "            _,z_test_yhat = torch.max(z_test,1)\n",
    "            correct += (y_test==z_test_yhat).sum().item()\n",
    "            toal_test_loss += test_loss\n",
    "        val_accuracy = (correct / len(test_dataset)) * 100\n",
    "        \n",
    "        if epoch%10==0:\n",
    "            print(f'Epoch {epoch+0:03}: | Train Loss: {total_train_loss:.3f} | Test Loss:{toal_test_loss:.3f} | Val accuracy: {val_accuracy:.5f}')\n",
    "        loss_list.append(total_train_loss)\n",
    "        accuracyList.append(val_accuracy)\n",
    "\n",
    "        writer.add_scalar(f\"Train/Train-loss\",total_train_loss,epoch)\n",
    "        writer.add_scalar(f\"Acc/Accuracy\",val_accuracy,epoch)\n",
    "        writer.add_scalar(f\"Train/Test-loss\",toal_test_loss,epoch)\n",
    "    plt.plot(range(epochs),loss_list,label=\"loss\")\n",
    "    plt.plot(range(epochs),accuracyList,label=\"accuracy\")\n",
    "    plt.legend()\n",
    "    writer.close()\n",
    "    return model \n"
   ]
  },
  {
   "cell_type": "code",
   "execution_count": 28,
   "metadata": {},
   "outputs": [],
   "source": [
    "# train(model,train_loader,test_loader,optimizer,epochs=400)"
   ]
  },
  {
   "cell_type": "code",
   "execution_count": 29,
   "metadata": {},
   "outputs": [
    {
     "name": "stderr",
     "output_type": "stream",
     "text": [
      "/tmp/ipykernel_593530/2946925598.py:3: UserWarning: Implicit dimension choice for log_softmax has been deprecated. Change the call to include dim=X as an argument.\n",
      "  return torch.mean(torch.sum(-target * logsoftmax(input), dim=1))\n"
     ]
    },
    {
     "name": "stdout",
     "output_type": "stream",
     "text": [
      "Epoch 000: | Train Loss: 17.664 | Test Loss:7.778 | Val accuracy: 91.85037\n",
      "Epoch 010: | Train Loss: 0.912 | Test Loss:55.886 | Val accuracy: 73.01269\n",
      "Epoch 020: | Train Loss: 0.191 | Test Loss:0.020 | Val accuracy: 100.00000\n",
      "Epoch 030: | Train Loss: 0.744 | Test Loss:18.138 | Val accuracy: 90.81496\n",
      "Epoch 040: | Train Loss: 0.263 | Test Loss:0.021 | Val accuracy: 100.00000\n",
      "Epoch 050: | Train Loss: 0.726 | Test Loss:0.016 | Val accuracy: 100.00000\n",
      "Epoch 060: | Train Loss: 0.072 | Test Loss:0.006 | Val accuracy: 100.00000\n",
      "Epoch 070: | Train Loss: 0.228 | Test Loss:0.009 | Val accuracy: 100.00000\n",
      "Epoch 080: | Train Loss: 0.448 | Test Loss:44.951 | Val accuracy: 87.44155\n",
      "Epoch 090: | Train Loss: 0.079 | Test Loss:0.008 | Val accuracy: 100.00000\n",
      "Epoch 100: | Train Loss: 0.066 | Test Loss:0.006 | Val accuracy: 100.00000\n",
      "Epoch 110: | Train Loss: 0.095 | Test Loss:0.005 | Val accuracy: 100.00000\n",
      "Epoch 120: | Train Loss: 0.671 | Test Loss:0.276 | Val accuracy: 99.83300\n",
      "Epoch 130: | Train Loss: 0.824 | Test Loss:0.009 | Val accuracy: 100.00000\n",
      "Epoch 140: | Train Loss: 0.232 | Test Loss:0.004 | Val accuracy: 100.00000\n",
      "Epoch 150: | Train Loss: 0.417 | Test Loss:0.007 | Val accuracy: 100.00000\n",
      "Epoch 160: | Train Loss: 0.054 | Test Loss:0.004 | Val accuracy: 100.00000\n",
      "Epoch 170: | Train Loss: 0.036 | Test Loss:0.003 | Val accuracy: 100.00000\n",
      "Epoch 180: | Train Loss: 0.806 | Test Loss:1.010 | Val accuracy: 99.16500\n",
      "Epoch 190: | Train Loss: 0.567 | Test Loss:0.644 | Val accuracy: 99.49900\n",
      "Epoch 200: | Train Loss: 1.810 | Test Loss:0.042 | Val accuracy: 100.00000\n",
      "Epoch 210: | Train Loss: 0.084 | Test Loss:0.006 | Val accuracy: 100.00000\n",
      "Epoch 220: | Train Loss: 0.033 | Test Loss:0.002 | Val accuracy: 100.00000\n",
      "Epoch 230: | Train Loss: 0.862 | Test Loss:38.591 | Val accuracy: 79.85972\n",
      "Epoch 240: | Train Loss: 0.771 | Test Loss:0.340 | Val accuracy: 99.63260\n",
      "Epoch 250: | Train Loss: 0.156 | Test Loss:0.003 | Val accuracy: 100.00000\n",
      "Epoch 260: | Train Loss: 0.907 | Test Loss:0.033 | Val accuracy: 100.00000\n",
      "Epoch 270: | Train Loss: 0.021 | Test Loss:0.001 | Val accuracy: 100.00000\n",
      "Epoch 280: | Train Loss: 0.060 | Test Loss:0.001 | Val accuracy: 100.00000\n",
      "Epoch 290: | Train Loss: 0.028 | Test Loss:0.002 | Val accuracy: 100.00000\n",
      "Epoch 300: | Train Loss: 0.129 | Test Loss:0.003 | Val accuracy: 100.00000\n",
      "Epoch 310: | Train Loss: 0.072 | Test Loss:0.002 | Val accuracy: 100.00000\n",
      "Epoch 320: | Train Loss: 0.513 | Test Loss:0.002 | Val accuracy: 100.00000\n",
      "Epoch 330: | Train Loss: 0.020 | Test Loss:0.001 | Val accuracy: 100.00000\n",
      "Epoch 340: | Train Loss: 0.044 | Test Loss:0.001 | Val accuracy: 100.00000\n",
      "Epoch 350: | Train Loss: 0.034 | Test Loss:0.002 | Val accuracy: 100.00000\n",
      "Epoch 360: | Train Loss: 0.305 | Test Loss:0.028 | Val accuracy: 100.00000\n",
      "Epoch 370: | Train Loss: 0.012 | Test Loss:0.001 | Val accuracy: 100.00000\n",
      "Epoch 380: | Train Loss: 0.051 | Test Loss:0.001 | Val accuracy: 100.00000\n",
      "Epoch 390: | Train Loss: 0.017 | Test Loss:0.001 | Val accuracy: 100.00000\n"
     ]
    },
    {
     "data": {
      "image/png": "[encoded data removed]",
      "text/plain": [
       "<Figure size 640x480 with 1 Axes>"
      ]
     },
     "metadata": {},
     "output_type": "display_data"
    }
   ],
   "source": [
    "\n",
    "PATH = \"ShapeModels-1/model-weights.pth\"\n",
    "trained_model = train(model,train_loader,test_loader,optimizer,epochs=400)\n",
    "torch.save(trained_model,PATH)\n",
    "torch.save(trained_model.state_dict(), PATH)\n",
    "# predict(trained_model,test_loader)"
   ]
  },
  {
   "cell_type": "code",
   "execution_count": 30,
   "metadata": {},
   "outputs": [],
   "source": [
    "# for x_test,y_test in test_loader:\n",
    "#     # print(x_test)\n",
    "#     model.eval()\n",
    "#     z_test = model(x_test.view(-1,28*28))\n",
    "    \n",
    "#     y_enc = one_hot_encoded(y_test)\n",
    "#     test_loss = cross_entropy(z_test,y_enc)\n",
    "    \n",
    "#     _,z_yhat = torch.max(z_test,1)\n",
    "#     break\n",
    "#     # correct += (y_test==z_yhat).sum().item()\n",
    "#     # toal_test_loss += test_loss"
   ]
  },
  {
   "cell_type": "code",
   "execution_count": 31,
   "metadata": {},
   "outputs": [],
   "source": [
    "# y_test"
   ]
  },
  {
   "cell_type": "code",
   "execution_count": 32,
   "metadata": {},
   "outputs": [],
   "source": [
    "# z_yhat"
   ]
  },
  {
   "cell_type": "code",
   "execution_count": 33,
   "metadata": {},
   "outputs": [],
   "source": [
    "# z_test.shape"
   ]
  },
  {
   "cell_type": "code",
   "execution_count": 34,
   "metadata": {},
   "outputs": [],
   "source": [
    "# F.softmax(z_test[0],0)"
   ]
  },
  {
   "cell_type": "code",
   "execution_count": null,
   "metadata": {},
   "outputs": [],
   "source": []
  },
  {
   "cell_type": "code",
   "execution_count": null,
   "metadata": {},
   "outputs": [],
   "source": []
  },
  {
   "cell_type": "code",
   "execution_count": null,
   "metadata": {},
   "outputs": [],
   "source": []
  },
  {
   "cell_type": "code",
   "execution_count": null,
   "metadata": {},
   "outputs": [],
   "source": []
  },
  {
   "cell_type": "markdown",
   "metadata": {},
   "source": []
  },
  {
   "cell_type": "markdown",
   "metadata": {},
   "source": []
  },
  {
   "cell_type": "code",
   "execution_count": 35,
   "metadata": {},
   "outputs": [],
   "source": [
    "\n",
    "def get_modle():\n",
    "    model = torch.load(\"/home/local/ZOHOCORP/kala-pt5650/programs/Neural-Network/pytorch/ImageClassifier/test_/shape_classifier.pth\")\n",
    "    model.eval()\n",
    "    return model"
   ]
  },
  {
   "cell_type": "code",
   "execution_count": null,
   "metadata": {},
   "outputs": [],
   "source": []
  },
  {
   "cell_type": "code",
   "execution_count": null,
   "metadata": {},
   "outputs": [],
   "source": []
  },
  {
   "cell_type": "code",
   "execution_count": 36,
   "metadata": {},
   "outputs": [],
   "source": [
    "\n",
    "# def soft_max_func(z):\n",
    "#     return torch.exp(z)/(torch.sum((torch.exp(z)),axis=1).view(-1,1))\n"
   ]
  },
  {
   "cell_type": "code",
   "execution_count": 37,
   "metadata": {},
   "outputs": [],
   "source": [
    "\n",
    "\n",
    "\n",
    "# def cross_entropy(y_pred,y):\n",
    "#     log_prob = torch.log(y_pred)\n",
    "#     # y = one_hot_encoded(y)\n",
    "#     cost = - torch.mean(log_prob*y)\n",
    "#     return cost"
   ]
  },
  {
   "cell_type": "code",
   "execution_count": 38,
   "metadata": {},
   "outputs": [],
   "source": [
    "# def cross_entropy(y_pred,y):\n",
    "#     loss = -torch.mean(torch.log(y_pred[range(len(y)), y]))\n",
    "#     return loss"
   ]
  },
  {
   "cell_type": "code",
   "execution_count": 39,
   "metadata": {},
   "outputs": [],
   "source": [
    "# writer.add_graph(model, images)\n",
    "# writer.close()"
   ]
  },
  {
   "cell_type": "code",
   "execution_count": 40,
   "metadata": {},
   "outputs": [],
   "source": [
    "# def cross_entropy(y_pred,y):\n",
    "#     return -1 * torch.sum((y*torch.log(y_pred)) + (1-y) * torch.log(1-y_pred))\n"
   ]
  },
  {
   "cell_type": "code",
   "execution_count": 41,
   "metadata": {},
   "outputs": [],
   "source": [
    "# images.unsqueeze(1).shape"
   ]
  },
  {
   "cell_type": "code",
   "execution_count": 42,
   "metadata": {},
   "outputs": [],
   "source": [
    "# g = torchvision.utils.make_grid(images.unsqueeze(1), nrow=2, padding=2)"
   ]
  },
  {
   "cell_type": "code",
   "execution_count": 43,
   "metadata": {},
   "outputs": [],
   "source": [
    "# plt.imshow(g.numpy().transpose(1,2,0))"
   ]
  },
  {
   "cell_type": "code",
   "execution_count": 44,
   "metadata": {},
   "outputs": [],
   "source": [
    "# a = np.arange(0,36,dtype=np.uint8).reshape(6,6)\n",
    "# kernel = np.ones((3,3),np.uint8)\n",
    "# gradient = cv2.morphologyEx(a, cv2.MORPH_GRADIENT, kernel)\n",
    "# a,gradient"
   ]
  }
 ],
 "metadata": {
  "kernelspec": {
   "display_name": "Python 3.9.0 ('venv3.9')",
   "language": "python",
   "name": "python3"
  },
  "language_info": {
   "codemirror_mode": {
    "name": "ipython",
    "version": 3
   },
   "file_extension": ".py",
   "mimetype": "text/x-python",
   "name": "python",
   "nbconvert_exporter": "python",
   "pygments_lexer": "ipython3",
   "version": "3.9.0"
  },
  "orig_nbformat": 4,
  "vscode": {
   "interpreter": {
    "hash": "85608488f3a17fdaa1b364b9e22bf12e969be5eafa99dc98ce11e328ed13206b"
   }
  }
 },
 "nbformat": 4,
 "nbformat_minor": 2
}
